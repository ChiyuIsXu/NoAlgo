{
 "cells": [
  {
   "cell_type": "markdown",
   "metadata": {},
   "source": [
    "# String"
   ]
  },
  {
   "cell_type": "code",
   "execution_count": 5,
   "metadata": {},
   "outputs": [
    {
     "name": "stdout",
     "output_type": "stream",
     "text": [
      "1_000_000_000_000_000\n",
      "1,000,000,000,000,000\n",
      "1000000000000000000 1000000000.0\n"
     ]
    }
   ],
   "source": [
    "n: int = 1000000000000000\n",
    "n1: int = 1_000_000_000_000_000_000\n",
    "n2: float = 1e9\n",
    "print(f\"{n:_}\")\n",
    "print(f\"{n:,}\")\n",
    "print(n1, n2)"
   ]
  },
  {
   "cell_type": "code",
   "execution_count": 6,
   "metadata": {},
   "outputs": [
    {
     "name": "stdout",
     "output_type": "stream",
     "text": [
      "123456789.5678\n",
      "123456789.57\n",
      "Result:123456789.57\n",
      "Result:123456790\n",
      "Result:123,456,789.5678\n"
     ]
    }
   ],
   "source": [
    "float_number: float = 123456789.5678\n",
    "print(float_number)\n",
    "print(round(float_number, 2))\n",
    "print(f\"Result:{float_number:.2f}\")\n",
    "print(f\"Result:{float_number:.0f}\")\n",
    "print(f\"Result:{float_number:,.4f}\")"
   ]
  },
  {
   "cell_type": "code",
   "execution_count": 7,
   "metadata": {},
   "outputs": [
    {
     "name": "stdout",
     "output_type": "stream",
     "text": [
      "****************************************\n",
      "Left Align!                             :\n",
      "Left Align!                             :\n",
      "             Center Align!              :\n",
      "                            Right Align!:\n",
      "Left Align!*****************************\n",
      "-------------Center Align!--------------\n",
      "____________________________Right Align!\n",
      "****************************************\n"
     ]
    }
   ],
   "source": [
    "left_align: str = \"Left Align!\"\n",
    "center_align: str = \"Center Align!\"\n",
    "right_align: str = \"Right Align!\"\n",
    "\n",
    "print(\"*\" * 40)\n",
    "print(f\"{left_align:40}:\")  # default is left align\n",
    "print(f\"{left_align:<40}:\")\n",
    "print(f\"{center_align:^40}:\")\n",
    "print(f\"{right_align:>40}:\")\n",
    "# Fill with - _ * | etc\n",
    "print(f\"{left_align:*<40}\")\n",
    "print(f\"{center_align:-^40}\")\n",
    "print(f\"{right_align:_>40}\")\n",
    "print(\"*\" * 40)\n"
   ]
  },
  {
   "cell_type": "code",
   "execution_count": 8,
   "metadata": {},
   "outputs": [
    {
     "name": "stdout",
     "output_type": "stream",
     "text": [
      "2024-08-08 17:34:33\n",
      "2024-08-08 05:34:33 PM\n",
      "Thu Aug  8 17:34:33 2024\n",
      "05PM\n"
     ]
    }
   ],
   "source": [
    "from datetime import datetime\n",
    "\n",
    "now: datetime = datetime.now()\n",
    "print(f\"{now:%Y-%m-%d %H:%M:%S}\")\n",
    "print(f\"{now:%Y-%m-%d %I:%M:%S %p}\")\n",
    "print(f\"{now:%c}\")\n",
    "print(f\"{now:%I%p}\")"
   ]
  }
 ],
 "metadata": {
  "kernelspec": {
   "display_name": "DL",
   "language": "python",
   "name": "python3"
  },
  "language_info": {
   "codemirror_mode": {
    "name": "ipython",
    "version": 3
   },
   "file_extension": ".py",
   "mimetype": "text/x-python",
   "name": "python",
   "nbconvert_exporter": "python",
   "pygments_lexer": "ipython3",
   "version": "3.11.9"
  }
 },
 "nbformat": 4,
 "nbformat_minor": 2
}
