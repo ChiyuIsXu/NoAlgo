{
 "cells": [
  {
   "cell_type": "markdown",
   "metadata": {},
   "source": [
    "# 初时算法\n",
    "\n",
    "1.2.1   算法定义\n",
    "算法（algorithm）是在有限时间内解决特定问题的一组指令或操作步骤，它具有以下特性。\n",
    "\n",
    "问题是明确的，包含清晰的输入和输出定义。\n",
    "具有可行性，能够在有限步骤、时间和内存空间下完成。\n",
    "各步骤都有确定的含义，在相同的输入和运行条件下，输出始终相同。"
   ]
  },
  {
   "cell_type": "code",
   "execution_count": null,
   "metadata": {},
   "outputs": [],
   "source": []
  }
 ],
 "metadata": {
  "language_info": {
   "name": "python"
  }
 },
 "nbformat": 4,
 "nbformat_minor": 2
}
